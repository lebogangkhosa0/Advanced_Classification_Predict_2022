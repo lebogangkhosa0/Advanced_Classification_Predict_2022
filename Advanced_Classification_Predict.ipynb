{
 "cells": [
  {
   "cell_type": "markdown",
   "metadata": {
    "execution": {
     "iopub.execute_input": "2022-07-06T09:09:49.639782Z",
     "iopub.status.busy": "2022-07-06T09:09:49.639050Z",
     "iopub.status.idle": "2022-07-06T09:09:52.550489Z",
     "shell.execute_reply": "2022-07-06T09:09:52.549590Z",
     "shell.execute_reply.started": "2022-07-06T09:09:49.639669Z"
    }
   },
   "source": [
    "# Advanced Classification Predict\n",
    "\n",
    "© Explore Data Science Academy"
   ]
  },
  {
   "cell_type": "markdown",
   "metadata": {},
   "source": [
    "## Honour Code\n",
    "\n",
    "I **LBOGANG kHOSA**, confirm - by submitting this document - that the solutions in this notebook are a result of my own work and that I abide by the EDSA honour code (https://drive.google.com/file/d/1QDCjGZJ8-FmJE3bZdIQNwnJyQKPhHZBn/view?usp=sharing).\n",
    "\n",
    "Non-compliance with the honour code constitutes a material breach of contract."
   ]
  },
  {
   "cell_type": "markdown",
   "metadata": {},
   "source": [
    "### Import Libraries and Read In the Data"
   ]
  },
  {
   "cell_type": "code",
   "execution_count": null,
   "metadata": {},
   "outputs": [],
   "source": [
    "from IPython.display import Image\n",
    "from IPython.display import IFrame\n",
    "from IPython import display\n",
    "import pandas as pd\n",
    "import numpy as np\n",
    "\n",
    "import nltk\n",
    "import sklearn\n",
    "import imblearn\n",
    "import csv\n",
    "%matplotlib inline\n",
    "\n",
    "from nltk import TreebankWordTokenizer, SnowballStemmer\n",
    "from nltk.tokenize import TweetTokenizer\n",
    "from nltk.tokenize import  word_tokenize\n",
    "from nltk.stem import WordNetLemmatizer\n",
    "from nltk.corpus import stopwords\n",
    "\n",
    "from imblearn.metrics import classification_report_imbalanced\n",
    "\n",
    "from sklearn.preprocessing import LabelBinarizer\n",
    "from sklearn.linear_model import LogisticRegression\n",
    "from sklearn.model_selection import train_test_split\n",
    "\n",
    "from sklearn.feature_extraction.text import TfidfVectorizer\n",
    "from sklearn.feature_selection import VarianceThreshold\n",
    "\n",
    "from sklearn.metrics import accuracy_score\n",
    "from sklearn.metrics import roc_auc_score\n",
    "from sklearn.metrics import recall_score\n",
    "from sklearn.metrics import precision_score\n",
    "from sklearn.metrics import f1_score\n",
    "from sklearn.metrics import confusion_matrix\n",
    "\n",
    "import string\n",
    "import urllib\n",
    "import math\n",
    "import re\n",
    "\n",
    "nltk.download('wordnet')\n",
    "nltk.download('stopwords')"
   ]
  },
  {
   "cell_type": "markdown",
   "metadata": {},
   "source": [
    "****Loading the Data****"
   ]
  },
  {
   "cell_type": "code",
   "execution_count": 9,
   "metadata": {
    "execution": {
     "iopub.execute_input": "2022-07-06T09:11:45.962823Z",
     "iopub.status.busy": "2022-07-06T09:11:45.962463Z",
     "iopub.status.idle": "2022-07-06T09:11:46.063886Z",
     "shell.execute_reply": "2022-07-06T09:11:46.062945Z",
     "shell.execute_reply.started": "2022-07-06T09:11:45.962784Z"
    }
   },
   "outputs": [],
   "source": [
    "train  = pd.read_csv('../input/edsa-climate-change-belief-analysis-2022/train.csv')\n",
    "test = pd.read_csv('../input/edsa-climate-change-belief-analysis-2022/test.csv') \n",
    "df_submission = pd.read_csv('../input/edsa-climate-change-belief-analysis-2022/sample_submission.csv')\n",
    "\n",
    "\n",
    "train.head(10)"
   ]
  },
  {
   "cell_type": "code",
   "execution_count": 11,
   "metadata": {
    "execution": {
     "iopub.execute_input": "2022-07-06T09:12:01.794632Z",
     "iopub.status.busy": "2022-07-06T09:12:01.794322Z",
     "iopub.status.idle": "2022-07-06T09:12:01.803106Z",
     "shell.execute_reply": "2022-07-06T09:12:01.802456Z",
     "shell.execute_reply.started": "2022-07-06T09:12:01.794596Z"
    }
   },
   "outputs": [],
   "source": [
    "test.head()"
   ]
  },
  {
   "cell_type": "code",
   "execution_count": 15,
   "metadata": {
    "execution": {
     "iopub.execute_input": "2022-07-06T09:15:53.188909Z",
     "iopub.status.busy": "2022-07-06T09:15:53.188630Z",
     "iopub.status.idle": "2022-07-06T09:15:53.244982Z",
     "shell.execute_reply": "2022-07-06T09:15:53.244177Z",
     "shell.execute_reply.started": "2022-07-06T09:15:53.188881Z"
    }
   },
   "outputs": [],
   "source": [
    "df = pd.read_csv(\"../input/edsa-climate-change-belief-analysis-2022/train.csv\")"
   ]
  },
  {
   "cell_type": "code",
   "execution_count": 16,
   "metadata": {
    "execution": {
     "iopub.execute_input": "2022-07-06T09:16:17.302496Z",
     "iopub.status.busy": "2022-07-06T09:16:17.302199Z",
     "iopub.status.idle": "2022-07-06T09:16:17.307003Z",
     "shell.execute_reply": "2022-07-06T09:16:17.306048Z",
     "shell.execute_reply.started": "2022-07-06T09:16:17.302457Z"
    }
   },
   "outputs": [],
   "source": [
    "pd.set_option('display.max_colwidth', None)"
   ]
  },
  {
   "cell_type": "code",
   "execution_count": 17,
   "metadata": {
    "execution": {
     "iopub.execute_input": "2022-07-06T09:16:20.980371Z",
     "iopub.status.busy": "2022-07-06T09:16:20.980072Z",
     "iopub.status.idle": "2022-07-06T09:16:20.989865Z",
     "shell.execute_reply": "2022-07-06T09:16:20.989206Z",
     "shell.execute_reply.started": "2022-07-06T09:16:20.980342Z"
    }
   },
   "outputs": [],
   "source": [
    "df.shape"
   ]
  },
  {
   "cell_type": "markdown",
   "metadata": {},
   "source": [
    "# Basic Preprocessing will include:\n",
    "**Removing handles,urls, numbers,hashtags,punctuation(non alpha characters),white space, converting text to lowercase, lematizing the texts and expanding text contractions.**"
   ]
  },
  {
   "cell_type": "code",
   "execution_count": 18,
   "metadata": {
    "execution": {
     "iopub.execute_input": "2022-07-06T09:16:26.988948Z",
     "iopub.status.busy": "2022-07-06T09:16:26.988352Z",
     "iopub.status.idle": "2022-07-06T09:16:26.993803Z",
     "shell.execute_reply": "2022-07-06T09:16:26.993200Z",
     "shell.execute_reply.started": "2022-07-06T09:16:26.988901Z"
    }
   },
   "outputs": [],
   "source": [
    "#Remove handles from the tweets\n",
    "def remove_handle(text):\n",
    "    twitter_handle = r'@[a-zA-Z0-9_]{0,15}'\n",
    "    cleaned = re.sub(twitter_handle, ' ', text)\n",
    "    return cleaned"
   ]
  },
  {
   "cell_type": "code",
   "execution_count": 19,
   "metadata": {
    "execution": {
     "iopub.execute_input": "2022-07-06T09:16:30.260229Z",
     "iopub.status.busy": "2022-07-06T09:16:30.259963Z",
     "iopub.status.idle": "2022-07-06T09:16:30.264995Z",
     "shell.execute_reply": "2022-07-06T09:16:30.264046Z",
     "shell.execute_reply.started": "2022-07-06T09:16:30.260201Z"
    }
   },
   "outputs": [],
   "source": [
    "#Removing hashtags from the tweets\n",
    "def remove_hashtags(text):\n",
    "    hashtags = r'#+[a-zA-Z0-9(_)]{1,}'\n",
    "    cleaned = re.sub(hashtags, ' ', text)\n",
    "    return cleaned"
   ]
  },
  {
   "cell_type": "code",
   "execution_count": 20,
   "metadata": {
    "execution": {
     "iopub.execute_input": "2022-07-06T09:16:37.826465Z",
     "iopub.status.busy": "2022-07-06T09:16:37.826138Z",
     "iopub.status.idle": "2022-07-06T09:16:37.831537Z",
     "shell.execute_reply": "2022-07-06T09:16:37.830602Z",
     "shell.execute_reply.started": "2022-07-06T09:16:37.826433Z"
    }
   },
   "outputs": [],
   "source": [
    "#Removing URLs from the tweets\n",
    "def remove_url(text):\n",
    "    pattern_url = r'http[s]?://(?:[A-Za-z]|[0-9]|[$-_@.&+]|[!*\\(\\),]|(?:%[0-9A-Fa-f][0-9A-Fa-f]))+'\n",
    "    partial_url = r'\\bht.[^\\s]*'\n",
    "    cleaned = re.sub(pattern_url, '', text)\n",
    "    cleaned = re.sub(partial_url, '', text)\n",
    "    return cleaned"
   ]
  },
  {
   "cell_type": "code",
   "execution_count": 21,
   "metadata": {
    "execution": {
     "iopub.execute_input": "2022-07-06T09:16:41.100188Z",
     "iopub.status.busy": "2022-07-06T09:16:41.099873Z",
     "iopub.status.idle": "2022-07-06T09:16:41.105339Z",
     "shell.execute_reply": "2022-07-06T09:16:41.103908Z",
     "shell.execute_reply.started": "2022-07-06T09:16:41.100128Z"
    }
   },
   "outputs": [],
   "source": [
    "#Removing numbers from the tweets\n",
    "def remove_numbers(text):\n",
    "    numbers = r'\\w*\\d\\w*'\n",
    "    cleaned = re.sub(numbers, ' ', text)\n",
    "    return cleaned"
   ]
  },
  {
   "cell_type": "code",
   "execution_count": 22,
   "metadata": {
    "execution": {
     "iopub.execute_input": "2022-07-06T09:16:47.581296Z",
     "iopub.status.busy": "2022-07-06T09:16:47.580984Z",
     "iopub.status.idle": "2022-07-06T09:16:47.586491Z",
     "shell.execute_reply": "2022-07-06T09:16:47.585239Z",
     "shell.execute_reply.started": "2022-07-06T09:16:47.581260Z"
    }
   },
   "outputs": [],
   "source": [
    "#converting tweets to lowercase\n",
    "def to_lowercase(text):\n",
    "    cleaned = text.lower()\n",
    "    return cleaned"
   ]
  },
  {
   "cell_type": "code",
   "execution_count": 23,
   "metadata": {
    "execution": {
     "iopub.execute_input": "2022-07-06T09:16:50.980839Z",
     "iopub.status.busy": "2022-07-06T09:16:50.980026Z",
     "iopub.status.idle": "2022-07-06T09:16:50.985586Z",
     "shell.execute_reply": "2022-07-06T09:16:50.984402Z",
     "shell.execute_reply.started": "2022-07-06T09:16:50.980791Z"
    }
   },
   "outputs": [],
   "source": [
    "#Removing non alpha numeric characters from the tweets\n",
    "def remove_non_alpha(text):\n",
    "    non_alpha = r'[^a-zA-Z\\d\\s]'\n",
    "    cleaned = re.sub(non_alpha, ' ', text)\n",
    "    return cleaned"
   ]
  },
  {
   "cell_type": "code",
   "execution_count": 24,
   "metadata": {
    "execution": {
     "iopub.execute_input": "2022-07-06T09:16:57.220933Z",
     "iopub.status.busy": "2022-07-06T09:16:57.220624Z",
     "iopub.status.idle": "2022-07-06T09:16:57.225617Z",
     "shell.execute_reply": "2022-07-06T09:16:57.224879Z",
     "shell.execute_reply.started": "2022-07-06T09:16:57.220900Z"
    }
   },
   "outputs": [],
   "source": [
    "#Removing the Stopwords from the text, In this case only 'rt'\n",
    "def remove_stopwords(text):\n",
    "    stop_words = ['rt']\n",
    "\n",
    "    filtered_sentence = ' '.join([word for word in text.split() if word not in stop_words])\n",
    "    return filtered_sentence"
   ]
  },
  {
   "cell_type": "code",
   "execution_count": 25,
   "metadata": {
    "execution": {
     "iopub.execute_input": "2022-07-06T09:17:00.520283Z",
     "iopub.status.busy": "2022-07-06T09:17:00.519997Z",
     "iopub.status.idle": "2022-07-06T09:17:00.525105Z",
     "shell.execute_reply": "2022-07-06T09:17:00.524108Z",
     "shell.execute_reply.started": "2022-07-06T09:17:00.520254Z"
    }
   },
   "outputs": [],
   "source": [
    "#Removing extra whitespaces from the text\n",
    "def remove_whitespace(text):\n",
    "    whitespace = r'\\s+'\n",
    "    cleaned = re.sub(whitespace, ' ', text)\n",
    "    return cleaned"
   ]
  },
  {
   "cell_type": "code",
   "execution_count": 26,
   "metadata": {
    "execution": {
     "iopub.execute_input": "2022-07-06T09:17:08.281972Z",
     "iopub.status.busy": "2022-07-06T09:17:08.281673Z",
     "iopub.status.idle": "2022-07-06T09:17:08.286720Z",
     "shell.execute_reply": "2022-07-06T09:17:08.285619Z",
     "shell.execute_reply.started": "2022-07-06T09:17:08.281939Z"
    }
   },
   "outputs": [],
   "source": [
    "#Removing random single text characters from the text\n",
    "def remove_single_characters(text):\n",
    "    single_character = r'\\b[a-zA-Z]\\b'\n",
    "    cleaned = re.sub(single_character, ' ', text)\n",
    "    return cleaned"
   ]
  },
  {
   "cell_type": "code",
   "execution_count": 27,
   "metadata": {
    "execution": {
     "iopub.execute_input": "2022-07-06T09:17:11.481554Z",
     "iopub.status.busy": "2022-07-06T09:17:11.480934Z",
     "iopub.status.idle": "2022-07-06T09:17:11.486231Z",
     "shell.execute_reply": "2022-07-06T09:17:11.485580Z",
     "shell.execute_reply.started": "2022-07-06T09:17:11.481514Z"
    }
   },
   "outputs": [],
   "source": [
    "#Expand contraction in the text\n",
    "def expand_contractions(text):\n",
    "    '''\n",
    "    Expand contraction in the text.\n",
    "    '''\n",
    "    text_list = text.split()\n",
    "    expanded_list = []\n",
    "    for word in text_list:\n",
    "        expanded_list.append(contractions.fix(word))\n",
    "        \n",
    "    new_text = ' '.join(expanded_list)\n",
    "\n",
    "    return new_text"
   ]
  },
  {
   "cell_type": "code",
   "execution_count": 28,
   "metadata": {
    "execution": {
     "iopub.execute_input": "2022-07-06T09:17:17.622073Z",
     "iopub.status.busy": "2022-07-06T09:17:17.621800Z",
     "iopub.status.idle": "2022-07-06T09:17:17.625984Z",
     "shell.execute_reply": "2022-07-06T09:17:17.625299Z",
     "shell.execute_reply.started": "2022-07-06T09:17:17.622029Z"
    }
   },
   "outputs": [],
   "source": [
    "def get_tokens(text):\n",
    "    return text.split()"
   ]
  },
  {
   "cell_type": "code",
   "execution_count": 29,
   "metadata": {
    "execution": {
     "iopub.execute_input": "2022-07-06T09:17:20.685870Z",
     "iopub.status.busy": "2022-07-06T09:17:20.685594Z",
     "iopub.status.idle": "2022-07-06T09:17:20.691337Z",
     "shell.execute_reply": "2022-07-06T09:17:20.690231Z",
     "shell.execute_reply.started": "2022-07-06T09:17:20.685843Z"
    }
   },
   "outputs": [],
   "source": [
    "def lemmatize_text(text):\n",
    "    '''\n",
    "    Lemmatize the text.\n",
    "    '''\n",
    "    lemmatizer  = WordNetLemmatizer()\n",
    "    lemmatized_sentence = ([lemmatizer.lemmatize(w) for w in text])\n",
    "    return lemmatized_sentence"
   ]
  },
  {
   "cell_type": "code",
   "execution_count": 30,
   "metadata": {
    "execution": {
     "iopub.execute_input": "2022-07-06T09:17:38.241445Z",
     "iopub.status.busy": "2022-07-06T09:17:38.241124Z",
     "iopub.status.idle": "2022-07-06T09:17:38.251057Z",
     "shell.execute_reply": "2022-07-06T09:17:38.250378Z",
     "shell.execute_reply.started": "2022-07-06T09:17:38.241413Z"
    }
   },
   "outputs": [],
   "source": [
    "import re\n",
    "\n",
    "#Cleaning dataset\n",
    "def preprocess(file_import, stemming=False, lemmatize=False):\n",
    "    if file_import == 'train':\n",
    "        df = pd.read_csv(\"../input/edsa-climate-change-belief-analysis-2022/train.csv\")\n",
    "    elif file_import == '../input/edsa-climate-change-belief-analysis-2022/test.csv':\n",
    "        df = pd.read_csv(\"../input/edsa-climate-change-belief-analysis-2022/test.csv\")\n",
    "    else:\n",
    "        error = 'Incorrect File Name!!'\n",
    "        return error  \n",
    "\n",
    "\n",
    "    # Remove twitter handles\n",
    "    df['clean_tweet'] = df['message'].apply(lambda text: remove_handle(text))\n",
    "    # Remove hashtags\n",
    "    df['clean_tweet'] = df['clean_tweet'].apply(lambda text: remove_hashtags(text))\n",
    "    # Remove url's\n",
    "    df['clean_tweet'] = df['clean_tweet'].apply(lambda text: remove_url(text))\n",
    "\n",
    "    # Remove all non alphanumeric characters\n",
    "    df['clean_tweet'] = df['clean_tweet'].apply(lambda text: remove_non_alpha(text))\n",
    "    # Remove numbers\n",
    "    df['clean_tweet'] = df['clean_tweet'].apply(lambda text: remove_numbers(text))\n",
    "    # Set to lower case\n",
    "    df['clean_tweet'] = df['clean_tweet'].apply(lambda text: to_lowercase(text))\n",
    "    # Remove single characters\n",
    "    df['clean_tweet'] = df['clean_tweet'].apply(lambda text: remove_single_characters(text))\n",
    "    # Remove extra whitespace\n",
    "    df['clean_tweet'] = df['clean_tweet'].apply(lambda text: remove_whitespace(text))\n",
    "    # Remove stop words\n",
    "    df['clean_tweet'] = df['clean_tweet'].apply(lambda text: remove_stopwords(text))\n",
    "    # Get tokens\n",
    "    df['clean_tweet'] = df['clean_tweet'].apply(lambda text: get_tokens(text))\n",
    "    # Lemmatize text\n",
    "    df['clean_tweet'] = df['clean_tweet'].apply(lambda text: lemmatize_text(text))\n",
    "\n",
    "\n",
    "    \n",
    "    df['message'] = df['clean_tweet']\n",
    "\n",
    "    df = df.drop(['clean_tweet'], 1)\n",
    "    return df   "
   ]
  },
  {
   "cell_type": "code",
   "execution_count": 31,
   "metadata": {
    "execution": {
     "iopub.execute_input": "2022-07-06T09:17:45.540818Z",
     "iopub.status.busy": "2022-07-06T09:17:45.540525Z",
     "iopub.status.idle": "2022-07-06T09:17:49.005235Z",
     "shell.execute_reply": "2022-07-06T09:17:49.004132Z",
     "shell.execute_reply.started": "2022-07-06T09:17:45.540791Z"
    }
   },
   "outputs": [],
   "source": [
    "processed_df = preprocess('train')"
   ]
  },
  {
   "cell_type": "code",
   "execution_count": 32,
   "metadata": {
    "execution": {
     "iopub.execute_input": "2022-07-06T09:17:53.972673Z",
     "iopub.status.busy": "2022-07-06T09:17:53.972379Z",
     "iopub.status.idle": "2022-07-06T09:17:53.989964Z",
     "shell.execute_reply": "2022-07-06T09:17:53.989026Z",
     "shell.execute_reply.started": "2022-07-06T09:17:53.972645Z"
    }
   },
   "outputs": [],
   "source": [
    "processed_df "
   ]
  },
  {
   "cell_type": "markdown",
   "metadata": {},
   "source": [
    "# Vectorizing Training data"
   ]
  },
  {
   "cell_type": "code",
   "execution_count": 33,
   "metadata": {
    "execution": {
     "iopub.execute_input": "2022-07-06T09:18:06.681074Z",
     "iopub.status.busy": "2022-07-06T09:18:06.680777Z",
     "iopub.status.idle": "2022-07-06T09:18:07.515484Z",
     "shell.execute_reply": "2022-07-06T09:18:07.514504Z",
     "shell.execute_reply.started": "2022-07-06T09:18:06.681043Z"
    }
   },
   "outputs": [],
   "source": [
    "# define a function to vectorize the lists of words \n",
    "from sklearn.feature_extraction.text import TfidfVectorizer\n",
    "tt = TfidfVectorizer(preprocessor=list, tokenizer=list, ngram_range=(1,2), min_df=2, strip_accents = 'ascii', smooth_idf=False)\n",
    "tt.fit(processed_df['message'])\n",
    "train_vect = tt.transform(processed_df['message'])\n"
   ]
  },
  {
   "cell_type": "code",
   "execution_count": 34,
   "metadata": {
    "execution": {
     "iopub.execute_input": "2022-07-06T09:18:20.640814Z",
     "iopub.status.busy": "2022-07-06T09:18:20.640530Z",
     "iopub.status.idle": "2022-07-06T09:18:21.863779Z",
     "shell.execute_reply": "2022-07-06T09:18:21.862860Z",
     "shell.execute_reply.started": "2022-07-06T09:18:20.640786Z"
    }
   },
   "outputs": [],
   "source": [
    "train_vect.toarray()"
   ]
  },
  {
   "cell_type": "markdown",
   "metadata": {},
   "source": [
    "# Split the training data into features and labels."
   ]
  },
  {
   "cell_type": "code",
   "execution_count": 35,
   "metadata": {
    "execution": {
     "iopub.execute_input": "2022-07-06T09:18:27.241961Z",
     "iopub.status.busy": "2022-07-06T09:18:27.241658Z",
     "iopub.status.idle": "2022-07-06T09:18:28.444828Z",
     "shell.execute_reply": "2022-07-06T09:18:28.444036Z",
     "shell.execute_reply.started": "2022-07-06T09:18:27.241929Z"
    }
   },
   "outputs": [],
   "source": [
    "X = train_vect.toarray()\n",
    "y = df['sentiment']"
   ]
  },
  {
   "cell_type": "code",
   "execution_count": 36,
   "metadata": {
    "execution": {
     "iopub.execute_input": "2022-07-06T09:18:31.324719Z",
     "iopub.status.busy": "2022-07-06T09:18:31.323971Z",
     "iopub.status.idle": "2022-07-06T09:18:31.334334Z",
     "shell.execute_reply": "2022-07-06T09:18:31.333547Z",
     "shell.execute_reply.started": "2022-07-06T09:18:31.324664Z"
    }
   },
   "outputs": [],
   "source": [
    "X.shape"
   ]
  },
  {
   "cell_type": "markdown",
   "metadata": {},
   "source": [
    "# Split the training data further into training and validation data."
   ]
  },
  {
   "cell_type": "code",
   "execution_count": 37,
   "metadata": {
    "execution": {
     "iopub.execute_input": "2022-07-06T09:18:39.821947Z",
     "iopub.status.busy": "2022-07-06T09:18:39.821651Z",
     "iopub.status.idle": "2022-07-06T09:18:39.826142Z",
     "shell.execute_reply": "2022-07-06T09:18:39.825200Z",
     "shell.execute_reply.started": "2022-07-06T09:18:39.821911Z"
    }
   },
   "outputs": [],
   "source": [
    "from sklearn.model_selection import train_test_split"
   ]
  },
  {
   "cell_type": "code",
   "execution_count": 38,
   "metadata": {
    "execution": {
     "iopub.execute_input": "2022-07-06T09:18:42.821822Z",
     "iopub.status.busy": "2022-07-06T09:18:42.821568Z",
     "iopub.status.idle": "2022-07-06T09:18:44.906228Z",
     "shell.execute_reply": "2022-07-06T09:18:44.905478Z",
     "shell.execute_reply.started": "2022-07-06T09:18:42.821796Z"
    }
   },
   "outputs": [],
   "source": [
    "X_train, X_test, y_train, y_test = train_test_split(X, y, test_size=0.2, random_state=100)"
   ]
  },
  {
   "cell_type": "code",
   "execution_count": 39,
   "metadata": {
    "execution": {
     "iopub.execute_input": "2022-07-06T09:18:47.761565Z",
     "iopub.status.busy": "2022-07-06T09:18:47.761039Z",
     "iopub.status.idle": "2022-07-06T09:18:47.765936Z",
     "shell.execute_reply": "2022-07-06T09:18:47.765027Z",
     "shell.execute_reply.started": "2022-07-06T09:18:47.761525Z"
    }
   },
   "outputs": [],
   "source": [
    "from sklearn.linear_model import LogisticRegression\n",
    "lr = LogisticRegression(solver = \"liblinear\", random_state = 100)"
   ]
  },
  {
   "cell_type": "markdown",
   "metadata": {},
   "source": [
    "# Fit the model on the training subset."
   ]
  },
  {
   "cell_type": "code",
   "execution_count": 40,
   "metadata": {
    "execution": {
     "iopub.execute_input": "2022-07-06T09:18:55.473845Z",
     "iopub.status.busy": "2022-07-06T09:18:55.473108Z",
     "iopub.status.idle": "2022-07-06T09:18:57.633507Z",
     "shell.execute_reply": "2022-07-06T09:18:57.632261Z",
     "shell.execute_reply.started": "2022-07-06T09:18:55.473804Z"
    }
   },
   "outputs": [],
   "source": [
    "lr.fit(X_train,y_train)"
   ]
  },
  {
   "cell_type": "code",
   "execution_count": 41,
   "metadata": {
    "execution": {
     "iopub.execute_input": "2022-07-06T09:18:59.696017Z",
     "iopub.status.busy": "2022-07-06T09:18:59.695746Z",
     "iopub.status.idle": "2022-07-06T09:18:59.702590Z",
     "shell.execute_reply": "2022-07-06T09:18:59.701768Z",
     "shell.execute_reply.started": "2022-07-06T09:18:59.695990Z"
    }
   },
   "outputs": [],
   "source": [
    "lr.intercept_[0]"
   ]
  },
  {
   "cell_type": "code",
   "execution_count": 42,
   "metadata": {
    "execution": {
     "iopub.execute_input": "2022-07-06T09:19:02.979700Z",
     "iopub.status.busy": "2022-07-06T09:19:02.979417Z",
     "iopub.status.idle": "2022-07-06T09:19:02.985998Z",
     "shell.execute_reply": "2022-07-06T09:19:02.985238Z",
     "shell.execute_reply.started": "2022-07-06T09:19:02.979669Z"
    }
   },
   "outputs": [],
   "source": [
    "lr.coef_"
   ]
  },
  {
   "cell_type": "markdown",
   "metadata": {},
   "source": [
    "# Predict on the validation subset."
   ]
  },
  {
   "cell_type": "code",
   "execution_count": 43,
   "metadata": {
    "execution": {
     "iopub.execute_input": "2022-07-06T09:19:13.440857Z",
     "iopub.status.busy": "2022-07-06T09:19:13.440200Z",
     "iopub.status.idle": "2022-07-06T09:19:13.605494Z",
     "shell.execute_reply": "2022-07-06T09:19:13.604526Z",
     "shell.execute_reply.started": "2022-07-06T09:19:13.440815Z"
    }
   },
   "outputs": [],
   "source": [
    "y_pred_test = lr.predict(X_test)\n",
    "y_pred_test"
   ]
  },
  {
   "cell_type": "code",
   "execution_count": 44,
   "metadata": {
    "execution": {
     "iopub.execute_input": "2022-07-06T09:19:16.780843Z",
     "iopub.status.busy": "2022-07-06T09:19:16.780559Z",
     "iopub.status.idle": "2022-07-06T09:19:16.784970Z",
     "shell.execute_reply": "2022-07-06T09:19:16.784138Z",
     "shell.execute_reply.started": "2022-07-06T09:19:16.780815Z"
    }
   },
   "outputs": [],
   "source": [
    "from sklearn.metrics import confusion_matrix"
   ]
  },
  {
   "cell_type": "code",
   "execution_count": 45,
   "metadata": {
    "execution": {
     "iopub.execute_input": "2022-07-06T09:19:19.920636Z",
     "iopub.status.busy": "2022-07-06T09:19:19.920376Z",
     "iopub.status.idle": "2022-07-06T09:19:19.929809Z",
     "shell.execute_reply": "2022-07-06T09:19:19.929216Z",
     "shell.execute_reply.started": "2022-07-06T09:19:19.920610Z"
    }
   },
   "outputs": [],
   "source": [
    "confusion_matrix(y_test, y_pred_test)"
   ]
  },
  {
   "cell_type": "code",
   "execution_count": 46,
   "metadata": {
    "execution": {
     "iopub.execute_input": "2022-07-06T09:19:44.964922Z",
     "iopub.status.busy": "2022-07-06T09:19:44.964644Z",
     "iopub.status.idle": "2022-07-06T09:19:44.979863Z",
     "shell.execute_reply": "2022-07-06T09:19:44.979004Z",
     "shell.execute_reply.started": "2022-07-06T09:19:44.964893Z"
    }
   },
   "outputs": [],
   "source": [
    "labels = [' -1', ' 0',' 1 ', ' 2']\n",
    "\n",
    "pd.DataFrame(data=confusion_matrix(y_test, y_pred_test), index=labels, columns=labels)"
   ]
  },
  {
   "cell_type": "markdown",
   "metadata": {},
   "source": [
    "# Calculate the performance metrics on the validation predictions."
   ]
  },
  {
   "cell_type": "code",
   "execution_count": 47,
   "metadata": {
    "execution": {
     "iopub.execute_input": "2022-07-06T09:19:51.459931Z",
     "iopub.status.busy": "2022-07-06T09:19:51.459663Z",
     "iopub.status.idle": "2022-07-06T09:19:51.469907Z",
     "shell.execute_reply": "2022-07-06T09:19:51.468810Z",
     "shell.execute_reply.started": "2022-07-06T09:19:51.459905Z"
    }
   },
   "outputs": [],
   "source": [
    "from sklearn.metrics import precision_score\n",
    "precision_score(y_test, y_pred_test, average = 'micro')"
   ]
  },
  {
   "cell_type": "code",
   "execution_count": 48,
   "metadata": {
    "execution": {
     "iopub.execute_input": "2022-07-06T09:19:55.359864Z",
     "iopub.status.busy": "2022-07-06T09:19:55.359589Z",
     "iopub.status.idle": "2022-07-06T09:19:55.367993Z",
     "shell.execute_reply": "2022-07-06T09:19:55.367103Z",
     "shell.execute_reply.started": "2022-07-06T09:19:55.359837Z"
    }
   },
   "outputs": [],
   "source": [
    "from sklearn.metrics import f1_score\n",
    "f1_score(y_test, y_pred_test, average = 'macro')"
   ]
  },
  {
   "cell_type": "code",
   "execution_count": null,
   "metadata": {
    "execution": {
     "iopub.status.busy": "2022-07-06T09:09:52.919188Z",
     "iopub.status.idle": "2022-07-06T09:09:52.919642Z",
     "shell.execute_reply": "2022-07-06T09:09:52.919420Z",
     "shell.execute_reply.started": "2022-07-06T09:09:52.919395Z"
    }
   },
   "outputs": [],
   "source": [
    "check"
   ]
  },
  {
   "cell_type": "markdown",
   "metadata": {},
   "source": [
    "# Clean the test data"
   ]
  },
  {
   "cell_type": "code",
   "execution_count": 51,
   "metadata": {
    "execution": {
     "iopub.execute_input": "2022-07-06T09:23:07.468666Z",
     "iopub.status.busy": "2022-07-06T09:23:07.468367Z",
     "iopub.status.idle": "2022-07-06T09:23:07.478856Z",
     "shell.execute_reply": "2022-07-06T09:23:07.478065Z",
     "shell.execute_reply.started": "2022-07-06T09:23:07.468632Z"
    }
   },
   "outputs": [],
   "source": [
    "import re\n",
    "\n",
    "#Cleaning dataset\n",
    "def preprocess(file_import, stemming=False, lemmatize=False):\n",
    "    if file_import == 'test':\n",
    "        df = pd.read_csv(\"../input/edsa-climate-change-belief-analysis-2022/test.csv\")\n",
    "    elif file_import == '../input/edsa-climate-change-belief-analysis-2022/train.csv':\n",
    "        df = pd.read_csv(\"../input/edsa-climate-change-belief-analysis-2022/train.csv\")\n",
    "    else:\n",
    "        error = 'Incorrect File Name!!'\n",
    "        return error  \n",
    "\n",
    "\n",
    "    # Remove twitter handles\n",
    "    df['clean_tweet'] = df['message'].apply(lambda text: remove_handle(text))\n",
    "    # Remove hashtags\n",
    "    df['clean_tweet'] = df['clean_tweet'].apply(lambda text: remove_hashtags(text))\n",
    "    # Remove url's\n",
    "    df['clean_tweet'] = df['clean_tweet'].apply(lambda text: remove_url(text))\n",
    "\n",
    "    # Remove all non alphanumeric characters\n",
    "    df['clean_tweet'] = df['clean_tweet'].apply(lambda text: remove_non_alpha(text))\n",
    "    # Remove numbers\n",
    "    df['clean_tweet'] = df['clean_tweet'].apply(lambda text: remove_numbers(text))\n",
    "    # Set to lower case\n",
    "    df['clean_tweet'] = df['clean_tweet'].apply(lambda text: to_lowercase(text))\n",
    "    # Remove single characters\n",
    "    df['clean_tweet'] = df['clean_tweet'].apply(lambda text: remove_single_characters(text))\n",
    "    # Remove extra whitespace\n",
    "    df['clean_tweet'] = df['clean_tweet'].apply(lambda text: remove_whitespace(text))\n",
    "    df['clean_tweet'] = df['clean_tweet'].apply(lambda text: remove_stopwords(text))\n",
    "    df['clean_tweet'] = df['clean_tweet'].apply(lambda text: get_tokens(text))\n",
    "    df['clean_tweet'] = df['clean_tweet'].apply(lambda text: lemmatize_text(text))\n",
    "\n",
    "\n",
    "    \n",
    "    df['message'] = df['clean_tweet']\n",
    "\n",
    "    df = df.drop(['clean_tweet'], 1)\n",
    "    return df   "
   ]
  },
  {
   "cell_type": "code",
   "execution_count": 52,
   "metadata": {
    "execution": {
     "iopub.execute_input": "2022-07-06T09:23:15.102228Z",
     "iopub.status.busy": "2022-07-06T09:23:15.101489Z",
     "iopub.status.idle": "2022-07-06T09:23:16.179099Z",
     "shell.execute_reply": "2022-07-06T09:23:16.178306Z",
     "shell.execute_reply.started": "2022-07-06T09:23:15.102182Z"
    }
   },
   "outputs": [],
   "source": [
    "processed_df_test = preprocess('test')"
   ]
  },
  {
   "cell_type": "code",
   "execution_count": 53,
   "metadata": {
    "execution": {
     "iopub.execute_input": "2022-07-06T09:23:19.980445Z",
     "iopub.status.busy": "2022-07-06T09:23:19.980168Z",
     "iopub.status.idle": "2022-07-06T09:23:19.996185Z",
     "shell.execute_reply": "2022-07-06T09:23:19.995216Z",
     "shell.execute_reply.started": "2022-07-06T09:23:19.980416Z"
    }
   },
   "outputs": [],
   "source": [
    "processed_df_test"
   ]
  },
  {
   "cell_type": "code",
   "execution_count": null,
   "metadata": {
    "execution": {
     "iopub.status.busy": "2022-07-06T09:09:52.920790Z",
     "iopub.status.idle": "2022-07-06T09:09:52.921298Z",
     "shell.execute_reply": "2022-07-06T09:09:52.921040Z",
     "shell.execute_reply.started": "2022-07-06T09:09:52.921014Z"
    }
   },
   "outputs": [],
   "source": [
    "test1['message'] = df_test['message'].apply(remove_url).apply(remove_handle).apply(remove_hashtags).apply(remove_non_alpha).apply(remove_numbers).apply(to_lowercase).apply(remove_single_characters).apply(remove_whitespace).apply(remove_stopwords).apply(get_tokens).apply(lemmatize_text)\n",
    "test1['message'].head()"
   ]
  },
  {
   "cell_type": "code",
   "execution_count": null,
   "metadata": {
    "execution": {
     "iopub.status.busy": "2022-07-06T09:09:52.922276Z",
     "iopub.status.idle": "2022-07-06T09:09:52.922719Z",
     "shell.execute_reply": "2022-07-06T09:09:52.922502Z",
     "shell.execute_reply.started": "2022-07-06T09:09:52.922479Z"
    }
   },
   "outputs": [],
   "source": [
    "test1.head()"
   ]
  },
  {
   "cell_type": "code",
   "execution_count": 70,
   "metadata": {
    "execution": {
     "iopub.execute_input": "2022-07-06T09:27:38.381479Z",
     "iopub.status.busy": "2022-07-06T09:27:38.381128Z",
     "iopub.status.idle": "2022-07-06T09:27:39.112317Z",
     "shell.execute_reply": "2022-07-06T09:27:39.111397Z",
     "shell.execute_reply.started": "2022-07-06T09:27:38.381447Z"
    }
   },
   "outputs": [],
   "source": [
    "from sklearn.feature_extraction.text import TfidfVectorizer\n",
    "tt = TfidfVectorizer(preprocessor=list, tokenizer=list, ngram_range=(1,2), min_df=2, strip_accents = 'ascii', smooth_idf=False)\n",
    "tt.fit(processed_df['message'])\n",
    "test_vect = tt.transform(processed_df_test['message'])"
   ]
  },
  {
   "cell_type": "code",
   "execution_count": 78,
   "metadata": {
    "execution": {
     "iopub.execute_input": "2022-07-06T09:29:50.420450Z",
     "iopub.status.busy": "2022-07-06T09:29:50.420125Z",
     "iopub.status.idle": "2022-07-06T09:29:50.426727Z",
     "shell.execute_reply": "2022-07-06T09:29:50.426118Z",
     "shell.execute_reply.started": "2022-07-06T09:29:50.420418Z"
    }
   },
   "outputs": [],
   "source": [
    "test_vect"
   ]
  },
  {
   "cell_type": "code",
   "execution_count": 72,
   "metadata": {
    "execution": {
     "iopub.execute_input": "2022-07-06T09:28:13.242130Z",
     "iopub.status.busy": "2022-07-06T09:28:13.241832Z",
     "iopub.status.idle": "2022-07-06T09:28:14.620978Z",
     "shell.execute_reply": "2022-07-06T09:28:14.620116Z",
     "shell.execute_reply.started": "2022-07-06T09:28:13.242097Z"
    }
   },
   "outputs": [],
   "source": [
    "test_vect.toarray()"
   ]
  },
  {
   "cell_type": "markdown",
   "metadata": {},
   "source": [
    "# Split the test data into features and labels."
   ]
  },
  {
   "cell_type": "code",
   "execution_count": 73,
   "metadata": {
    "execution": {
     "iopub.execute_input": "2022-07-06T09:28:27.920650Z",
     "iopub.status.busy": "2022-07-06T09:28:27.920348Z",
     "iopub.status.idle": "2022-07-06T09:28:29.135487Z",
     "shell.execute_reply": "2022-07-06T09:28:29.134706Z",
     "shell.execute_reply.started": "2022-07-06T09:28:27.920612Z"
    }
   },
   "outputs": [],
   "source": [
    "    X = test_vect.toarray()\n",
    "    y = df['sentiment']"
   ]
  },
  {
   "cell_type": "code",
   "execution_count": 74,
   "metadata": {
    "execution": {
     "iopub.execute_input": "2022-07-06T09:28:39.530418Z",
     "iopub.status.busy": "2022-07-06T09:28:39.530058Z",
     "iopub.status.idle": "2022-07-06T09:28:39.535927Z",
     "shell.execute_reply": "2022-07-06T09:28:39.534957Z",
     "shell.execute_reply.started": "2022-07-06T09:28:39.530382Z"
    }
   },
   "outputs": [],
   "source": [
    "X.shape"
   ]
  },
  {
   "cell_type": "code",
   "execution_count": 75,
   "metadata": {
    "execution": {
     "iopub.execute_input": "2022-07-06T09:28:45.661879Z",
     "iopub.status.busy": "2022-07-06T09:28:45.660986Z",
     "iopub.status.idle": "2022-07-06T09:28:45.668975Z",
     "shell.execute_reply": "2022-07-06T09:28:45.667864Z",
     "shell.execute_reply.started": "2022-07-06T09:28:45.661807Z"
    }
   },
   "outputs": [],
   "source": [
    "y.head()"
   ]
  },
  {
   "cell_type": "markdown",
   "metadata": {},
   "source": [
    "# Predict on the Test Data"
   ]
  },
  {
   "cell_type": "code",
   "execution_count": 79,
   "metadata": {
    "execution": {
     "iopub.execute_input": "2022-07-06T09:30:10.321612Z",
     "iopub.status.busy": "2022-07-06T09:30:10.321333Z",
     "iopub.status.idle": "2022-07-06T09:30:10.331567Z",
     "shell.execute_reply": "2022-07-06T09:30:10.330683Z",
     "shell.execute_reply.started": "2022-07-06T09:30:10.321585Z"
    }
   },
   "outputs": [],
   "source": [
    "y_pred_test_vect = lr.predict(test_vect)\n",
    "y_pred_test_vect"
   ]
  },
  {
   "cell_type": "markdown",
   "metadata": {},
   "source": [
    "# Make a submission"
   ]
  },
  {
   "cell_type": "code",
   "execution_count": 81,
   "metadata": {
    "execution": {
     "iopub.execute_input": "2022-07-06T09:32:32.347574Z",
     "iopub.status.busy": "2022-07-06T09:32:32.347245Z",
     "iopub.status.idle": "2022-07-06T09:32:32.355123Z",
     "shell.execute_reply": "2022-07-06T09:32:32.354236Z",
     "shell.execute_reply.started": "2022-07-06T09:32:32.347543Z"
    }
   },
   "outputs": [],
   "source": [
    "daf=pd.DataFrame(y_pred_test_vect, columns=['sentiment'])\n",
    "test_vect"
   ]
  },
  {
   "cell_type": "code",
   "execution_count": 84,
   "metadata": {
    "execution": {
     "iopub.execute_input": "2022-07-06T09:37:21.029201Z",
     "iopub.status.busy": "2022-07-06T09:37:21.028841Z",
     "iopub.status.idle": "2022-07-06T09:37:21.048850Z",
     "shell.execute_reply": "2022-07-06T09:37:21.047889Z",
     "shell.execute_reply.started": "2022-07-06T09:37:21.029141Z"
    }
   },
   "outputs": [],
   "source": [
    "output = pd.DataFrame({\"tweetid\":test['tweetid']})\n",
    "submission = output.join(daf)\n",
    "submission.to_csv(\"submission.csv\", index=False)"
   ]
  },
  {
   "cell_type": "code",
   "execution_count": 85,
   "metadata": {
    "execution": {
     "iopub.execute_input": "2022-07-06T09:37:25.060726Z",
     "iopub.status.busy": "2022-07-06T09:37:25.060418Z",
     "iopub.status.idle": "2022-07-06T09:37:25.073476Z",
     "shell.execute_reply": "2022-07-06T09:37:25.072607Z",
     "shell.execute_reply.started": "2022-07-06T09:37:25.060694Z"
    }
   },
   "outputs": [],
   "source": [
    "submission"
   ]
  },
  {
   "cell_type": "markdown",
   "metadata": {},
   "source": [
    "# Conclusion"
   ]
  },
  {
   "cell_type": "markdown",
   "metadata": {},
   "source": [
    "I believe the logistic regression model is working fairly well because the F1-macro score on kaggle is 0.71858. Given more time, I would have predicted using other models such as SVM, Decision tree and Random Forest to see which one would predict better results."
   ]
  }
 ],
 "metadata": {
  "kernelspec": {
   "display_name": "Python 3 (ipykernel)",
   "language": "python",
   "name": "python3"
  },
  "language_info": {
   "codemirror_mode": {
    "name": "ipython",
    "version": 3
   },
   "file_extension": ".py",
   "mimetype": "text/x-python",
   "name": "python",
   "nbconvert_exporter": "python",
   "pygments_lexer": "ipython3",
   "version": "3.9.7"
  }
 },
 "nbformat": 4,
 "nbformat_minor": 4
}
